{
 "cells": [
  {
   "cell_type": "markdown",
   "id": "468cbfd9",
   "metadata": {},
   "source": [
    "# Question 1\n",
    "#Write a Numpy program to create a vector of length 5 filled with arbitrary integers from 0 to 10"
   ]
  },
  {
   "cell_type": "code",
   "execution_count": 2,
   "id": "44d30202",
   "metadata": {},
   "outputs": [
    {
     "name": "stdout",
     "output_type": "stream",
     "text": [
      "Vector of length 5 filled with arbitrary integers from 0 to 10:\n",
      "[5 3 6 3 8]\n"
     ]
    }
   ],
   "source": [
    "import numpy as np\n",
    "x=np.random.randint(0,11,5)\n",
    "print(\"Vector of length 5 filled with arbitrary integers from 0 to 10:\")\n",
    "print(x)"
   ]
  },
  {
   "cell_type": "markdown",
   "id": "e3a1a65d",
   "metadata": {},
   "source": [
    "# Question 2\n",
    "#Write a Numpy program to create a vector with values ranging from 15 to 55 and print all values except the first and last."
   ]
  },
  {
   "cell_type": "code",
   "execution_count": 3,
   "id": "3b91c6dc",
   "metadata": {},
   "outputs": [
    {
     "name": "stdout",
     "output_type": "stream",
     "text": [
      "Original Vector:\n",
      "[15 16 17 18 19 20 21 22 23 24 25 26 27 28 29 30 31 32 33 34 35 36 37 38\n",
      " 39 40 41 42 43 44 45 46 47 48 49 50 51 52 53 54]\n",
      "All values except the first and last of the said vector:\n",
      "[16 17 18 19 20 21 22 23 24 25 26 27 28 29 30 31 32 33 34 35 36 37 38 39\n",
      " 40 41 42 43 44 45 46 47 48 49 50 51 52 53]\n"
     ]
    }
   ],
   "source": [
    "import numpy as np \n",
    "V=np.arange (15,55)\n",
    "print(\"Original Vector:\")\n",
    "print(V)\n",
    "print(\"All values except the first and last of the said vector:\")\n",
    "print(V[1:-1])"
   ]
  },
  {
   "cell_type": "markdown",
   "id": "93aabd8b",
   "metadata": {},
   "source": [
    "# Question 3\n",
    "#Write a Numpy program to create a random array with 1000 elements and compute tha average, variance,standard deviation of the array elements."
   ]
  },
  {
   "cell_type": "code",
   "execution_count": 4,
   "id": "a82a8ad2",
   "metadata": {},
   "outputs": [
    {
     "name": "stdout",
     "output_type": "stream",
     "text": [
      "Average of the array elements:\n",
      "0.026918071202675885\n",
      "Standard deviation of the array elements:\n",
      "0.9927584179305772\n",
      "Variance of the array elements:\n",
      "0.9855692763720226\n"
     ]
    }
   ],
   "source": [
    "import numpy as np\n",
    "x = np.random.randn(1000)\n",
    "print(\"Average of the array elements:\")\n",
    "mean = x.mean()\n",
    "print(mean)\n",
    "print(\"Standard deviation of the array elements:\")\n",
    "std = x.std()\n",
    "print(std)\n",
    "print(\"Variance of the array elements:\")\n",
    "var = x.var()\n",
    "print(var)"
   ]
  },
  {
   "cell_type": "markdown",
   "id": "49624c17",
   "metadata": {},
   "source": [
    "# Question 4\n",
    "#Write a Numpy program to calculate cumulative sum of the elements along a given axis, sum over rows for each of the 3 columns and sum over columns for each of the rows of a given 3x3"
   ]
  },
  {
   "cell_type": "code",
   "execution_count": 5,
   "id": "6a017724",
   "metadata": {},
   "outputs": [
    {
     "name": "stdout",
     "output_type": "stream",
     "text": [
      "Original array:\n",
      "[[1 2 3]\n",
      " [4 5 6]]\n",
      "Cumulative sum of the elements along a given axis:\n",
      "[ 1  3  6 10 15 21]\n",
      "\n",
      "Sum over rows for each of the 3 columns:\n",
      "[[1 2 3]\n",
      " [5 7 9]]\n",
      "\n",
      "Sum over columns for each of the 2 rows:\n",
      "[[ 1  3  6]\n",
      " [ 4  9 15]]\n"
     ]
    }
   ],
   "source": [
    "import numpy as np\n",
    "Z=np.array([[1,2,3], [4,5,6]])\n",
    "print(\"Original array:\")\n",
    "print(Z)\n",
    "print(\"Cumulative sum of the elements along a given axis:\")\n",
    "X=np.cumsum(Z)\n",
    "print(X)\n",
    "print(\"\\nSum over rows for each of the 3 columns:\")\n",
    "X=np.cumsum(Z,axis=0)\n",
    "print(X)\n",
    "print(\"\\nSum over columns for each of the 2 rows:\")\n",
    "X=np.cumsum(Z,axis=1)\n",
    "print(X)"
   ]
  },
  {
   "cell_type": "markdown",
   "id": "464054de",
   "metadata": {},
   "source": [
    "# Question 5\n",
    "#Write a Numpy program to compute the multiplication of two given matrixes. Sample Matrix: [[1,0],[0,1]] [[1,2],[3,4]]"
   ]
  },
  {
   "cell_type": "code",
   "execution_count": 6,
   "id": "f52b4760",
   "metadata": {},
   "outputs": [
    {
     "name": "stdout",
     "output_type": "stream",
     "text": [
      "original matrix:\n",
      "[[1, 0], [0, 1]]\n",
      "[[1, 2], [3, 4]]\n",
      "Result of the said matrix multipication:\n",
      "[[1 2]\n",
      " [3 4]]\n"
     ]
    }
   ],
   "source": [
    "import numpy as np\n",
    "C=[[1,0],[0,1]]\n",
    "A=[[1,2],[3,4]]\n",
    "print(\"original matrix:\")\n",
    "print(C)\n",
    "print(A)\n",
    "result_1=np.dot(C,A)\n",
    "print(\"Result of the said matrix multipication:\")\n",
    "print(result_1)\n"
   ]
  },
  {
   "cell_type": "code",
   "execution_count": null,
   "id": "acdde6ef",
   "metadata": {},
   "outputs": [],
   "source": []
  }
 ],
 "metadata": {
  "kernelspec": {
   "display_name": "Python 3 (ipykernel)",
   "language": "python",
   "name": "python3"
  },
  "language_info": {
   "codemirror_mode": {
    "name": "ipython",
    "version": 3
   },
   "file_extension": ".py",
   "mimetype": "text/x-python",
   "name": "python",
   "nbconvert_exporter": "python",
   "pygments_lexer": "ipython3",
   "version": "3.9.7"
  }
 },
 "nbformat": 4,
 "nbformat_minor": 5
}
